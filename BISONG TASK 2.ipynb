{
 "cells": [
  {
   "cell_type": "code",
   "execution_count": 200,
   "id": "6dfe6d8b-abc1-4bf4-915e-251895d5dcd7",
   "metadata": {},
   "outputs": [],
   "source": [
    "## importing libraries"
   ]
  },
  {
   "cell_type": "code",
   "execution_count": 202,
   "id": "d6cb9ea8-fe25-4b63-beb4-089c770924aa",
   "metadata": {},
   "outputs": [],
   "source": [
    "import numpy as np\n",
    "\n",
    "import sklearn\n",
    "\n",
    "import pandas as pd\n",
    "import matplotlib.pyplot as plt"
   ]
  },
  {
   "cell_type": "code",
   "execution_count": 204,
   "id": "18b206fe-dc08-4a28-b697-e355d337531f",
   "metadata": {},
   "outputs": [],
   "source": [
    "## importing THE data file"
   ]
  },
  {
   "cell_type": "code",
   "execution_count": 205,
   "id": "6b6f58c1-0743-47f7-abcd-e6577d8eaa50",
   "metadata": {},
   "outputs": [],
   "source": [
    "dataset = pd.read_csv('Iris.csv')\n",
    "\n",
    "x = dataset.iloc[:, :-1].values\n",
    "\n",
    "y = dataset.iloc[:, -1].values\n",
    "\n",
    "missing_data = dataset.isnull().sum()"
   ]
  },
  {
   "cell_type": "code",
   "execution_count": 208,
   "id": "8270d3ea-802d-4eea-a62e-de16c7a8a366",
   "metadata": {},
   "outputs": [],
   "source": [
    "## SPLITTING THE DATASET INTO TRAINING SET AND TEST SET"
   ]
  },
  {
   "cell_type": "code",
   "execution_count": 209,
   "id": "a561892f-e2be-4380-95d2-d646f5002b1e",
   "metadata": {},
   "outputs": [
    {
     "name": "stdout",
     "output_type": "stream",
     "text": [
      "[[1.38e+02 6.40e+00 3.10e+00 5.50e+00 1.80e+00]\n",
      " [8.50e+01 5.40e+00 3.00e+00 4.50e+00 1.50e+00]\n",
      " [2.80e+01 5.20e+00 3.50e+00 1.50e+00 2.00e-01]\n",
      " [1.28e+02 6.10e+00 3.00e+00 4.90e+00 1.80e+00]\n",
      " [1.33e+02 6.40e+00 2.80e+00 5.60e+00 2.20e+00]\n",
      " [6.00e+01 5.20e+00 2.70e+00 3.90e+00 1.40e+00]\n",
      " [1.90e+01 5.70e+00 3.80e+00 1.70e+00 3.00e-01]\n",
      " [8.40e+01 6.00e+00 2.70e+00 5.10e+00 1.60e+00]\n",
      " [6.20e+01 5.90e+00 3.00e+00 4.20e+00 1.50e+00]\n",
      " [9.30e+01 5.80e+00 2.60e+00 4.00e+00 1.20e+00]\n",
      " [1.13e+02 6.80e+00 3.00e+00 5.50e+00 2.10e+00]\n",
      " [3.00e+00 4.70e+00 3.20e+00 1.30e+00 2.00e-01]\n",
      " [1.42e+02 6.90e+00 3.10e+00 5.10e+00 2.30e+00]\n",
      " [4.40e+01 5.00e+00 3.50e+00 1.60e+00 6.00e-01]\n",
      " [1.10e+01 5.40e+00 3.70e+00 1.50e+00 2.00e-01]\n",
      " [6.10e+01 5.00e+00 2.00e+00 3.50e+00 1.00e+00]\n",
      " [1.17e+02 6.50e+00 3.00e+00 5.50e+00 1.80e+00]\n",
      " [1.45e+02 6.70e+00 3.30e+00 5.70e+00 2.50e+00]\n",
      " [1.20e+02 6.00e+00 2.20e+00 5.00e+00 1.50e+00]\n",
      " [1.09e+02 6.70e+00 2.50e+00 5.80e+00 1.80e+00]\n",
      " [7.00e+01 5.60e+00 2.50e+00 3.90e+00 1.10e+00]\n",
      " [1.36e+02 7.70e+00 3.00e+00 6.10e+00 2.30e+00]\n",
      " [5.70e+01 6.30e+00 3.30e+00 4.70e+00 1.60e+00]\n",
      " [8.10e+01 5.50e+00 2.40e+00 3.80e+00 1.10e+00]\n",
      " [1.24e+02 6.30e+00 2.70e+00 4.90e+00 1.80e+00]\n",
      " [1.34e+02 6.30e+00 2.80e+00 5.10e+00 1.50e+00]\n",
      " [1.07e+02 4.90e+00 2.50e+00 4.50e+00 1.70e+00]\n",
      " [1.47e+02 6.30e+00 2.50e+00 5.00e+00 1.90e+00]\n",
      " [5.10e+01 7.00e+00 3.20e+00 4.70e+00 1.40e+00]\n",
      " [1.48e+02 6.50e+00 3.00e+00 5.20e+00 2.00e+00]\n",
      " [8.60e+01 6.00e+00 3.40e+00 4.50e+00 1.60e+00]\n",
      " [3.10e+01 4.80e+00 3.10e+00 1.60e+00 2.00e-01]\n",
      " [1.02e+02 5.80e+00 2.70e+00 5.10e+00 1.90e+00]\n",
      " [9.50e+01 5.60e+00 2.70e+00 4.20e+00 1.30e+00]\n",
      " [6.50e+01 5.60e+00 2.90e+00 3.60e+00 1.30e+00]\n",
      " [9.00e+01 5.50e+00 2.50e+00 4.00e+00 1.30e+00]\n",
      " [9.20e+01 6.10e+00 3.00e+00 4.60e+00 1.40e+00]\n",
      " [1.26e+02 7.20e+00 3.20e+00 6.00e+00 1.80e+00]\n",
      " [4.90e+01 5.30e+00 3.70e+00 1.50e+00 2.00e-01]\n",
      " [1.40e+01 4.30e+00 3.00e+00 1.10e+00 1.00e-01]\n",
      " [1.12e+02 6.40e+00 2.70e+00 5.30e+00 1.90e+00]\n",
      " [9.60e+01 5.70e+00 3.00e+00 4.20e+00 1.20e+00]\n",
      " [2.10e+01 5.40e+00 3.40e+00 1.70e+00 2.00e-01]\n",
      " [1.60e+01 5.70e+00 4.40e+00 1.50e+00 4.00e-01]\n",
      " [5.30e+01 6.90e+00 3.10e+00 4.90e+00 1.50e+00]\n",
      " [4.00e+00 4.60e+00 3.10e+00 1.50e+00 2.00e-01]\n",
      " [1.50e+02 5.90e+00 3.00e+00 5.10e+00 1.80e+00]\n",
      " [9.90e+01 5.10e+00 2.50e+00 3.00e+00 1.10e+00]\n",
      " [7.00e+00 4.60e+00 3.40e+00 1.40e+00 3.00e-01]\n",
      " [6.90e+01 6.20e+00 2.20e+00 4.50e+00 1.50e+00]\n",
      " [1.10e+02 7.20e+00 3.60e+00 6.10e+00 2.50e+00]\n",
      " [9.70e+01 5.70e+00 2.90e+00 4.20e+00 1.30e+00]\n",
      " [1.30e+01 4.80e+00 3.00e+00 1.40e+00 1.00e-01]\n",
      " [1.03e+02 7.10e+00 3.00e+00 5.90e+00 2.10e+00]\n",
      " [1.21e+02 6.90e+00 3.20e+00 5.70e+00 2.30e+00]\n",
      " [1.05e+02 6.50e+00 3.00e+00 5.80e+00 2.20e+00]\n",
      " [1.29e+02 6.40e+00 2.80e+00 5.60e+00 2.10e+00]\n",
      " [4.70e+01 5.10e+00 3.80e+00 1.60e+00 2.00e-01]\n",
      " [1.20e+01 4.80e+00 3.40e+00 1.60e+00 2.00e-01]\n",
      " [1.11e+02 6.50e+00 3.20e+00 5.10e+00 2.00e+00]\n",
      " [1.25e+02 6.70e+00 3.30e+00 5.70e+00 2.10e+00]\n",
      " [4.20e+01 4.50e+00 2.30e+00 1.30e+00 3.00e-01]\n",
      " [1.49e+02 6.20e+00 3.40e+00 5.40e+00 2.30e+00]\n",
      " [2.00e+00 4.90e+00 3.00e+00 1.40e+00 2.00e-01]\n",
      " [1.14e+02 5.70e+00 2.50e+00 5.00e+00 2.00e+00]\n",
      " [1.40e+02 6.90e+00 3.10e+00 5.40e+00 2.10e+00]\n",
      " [4.30e+01 4.40e+00 3.20e+00 1.30e+00 2.00e-01]\n",
      " [5.00e+00 5.00e+00 3.60e+00 1.40e+00 2.00e-01]\n",
      " [1.30e+02 7.20e+00 3.00e+00 5.80e+00 1.60e+00]\n",
      " [1.80e+01 5.10e+00 3.50e+00 1.40e+00 3.00e-01]\n",
      " [3.90e+01 4.40e+00 3.00e+00 1.30e+00 2.00e-01]\n",
      " [6.00e+00 5.40e+00 3.90e+00 1.70e+00 4.00e-01]\n",
      " [5.40e+01 5.50e+00 2.30e+00 4.00e+00 1.30e+00]\n",
      " [1.44e+02 6.80e+00 3.20e+00 5.90e+00 2.30e+00]\n",
      " [1.06e+02 7.60e+00 3.00e+00 6.60e+00 2.10e+00]\n",
      " [1.00e+00 5.10e+00 3.50e+00 1.40e+00 2.00e-01]\n",
      " [3.50e+01 4.90e+00 3.10e+00 1.50e+00 1.00e-01]\n",
      " [2.90e+01 5.20e+00 3.40e+00 1.40e+00 2.00e-01]\n",
      " [5.60e+01 5.70e+00 2.80e+00 4.50e+00 1.30e+00]\n",
      " [7.60e+01 6.60e+00 3.00e+00 4.40e+00 1.40e+00]\n",
      " [3.60e+01 5.00e+00 3.20e+00 1.20e+00 2.00e-01]\n",
      " [2.40e+01 5.10e+00 3.30e+00 1.70e+00 5.00e-01]\n",
      " [7.50e+01 6.40e+00 2.90e+00 4.30e+00 1.30e+00]\n",
      " [3.20e+01 5.40e+00 3.40e+00 1.50e+00 4.00e-01]\n",
      " [1.19e+02 7.70e+00 2.60e+00 6.90e+00 2.30e+00]\n",
      " [5.80e+01 4.90e+00 2.40e+00 3.30e+00 1.00e+00]\n",
      " [1.32e+02 7.90e+00 3.80e+00 6.40e+00 2.00e+00]\n",
      " [6.60e+01 6.70e+00 3.10e+00 4.40e+00 1.40e+00]\n",
      " [3.30e+01 5.20e+00 4.10e+00 1.50e+00 1.00e-01]\n",
      " [1.39e+02 6.00e+00 3.00e+00 4.80e+00 1.80e+00]\n",
      " [1.50e+01 5.80e+00 4.00e+00 1.20e+00 2.00e-01]\n",
      " [1.23e+02 7.70e+00 2.80e+00 6.70e+00 2.00e+00]\n",
      " [2.00e+01 5.10e+00 3.80e+00 1.50e+00 3.00e-01]\n",
      " [3.00e+01 4.70e+00 3.20e+00 1.60e+00 2.00e-01]\n",
      " [1.31e+02 7.40e+00 2.80e+00 6.10e+00 1.90e+00]\n",
      " [5.00e+01 5.00e+00 3.30e+00 1.40e+00 2.00e-01]\n",
      " [1.37e+02 6.30e+00 3.40e+00 5.60e+00 2.40e+00]\n",
      " [1.00e+02 5.70e+00 2.80e+00 4.10e+00 1.30e+00]\n",
      " [8.30e+01 5.80e+00 2.70e+00 3.90e+00 1.20e+00]\n",
      " [8.00e+01 5.70e+00 2.60e+00 3.50e+00 1.00e+00]\n",
      " [1.16e+02 6.40e+00 3.20e+00 5.30e+00 2.30e+00]\n",
      " [1.46e+02 6.70e+00 3.00e+00 5.20e+00 2.30e+00]\n",
      " [7.30e+01 6.30e+00 2.50e+00 4.90e+00 1.50e+00]\n",
      " [7.80e+01 6.70e+00 3.00e+00 5.00e+00 1.70e+00]\n",
      " [2.60e+01 5.00e+00 3.00e+00 1.60e+00 2.00e-01]\n",
      " [8.20e+01 5.50e+00 2.40e+00 3.70e+00 1.00e+00]\n",
      " [1.41e+02 6.70e+00 3.10e+00 5.60e+00 2.40e+00]\n",
      " [1.43e+02 5.80e+00 2.70e+00 5.10e+00 1.90e+00]\n",
      " [4.00e+01 5.10e+00 3.40e+00 1.50e+00 2.00e-01]\n",
      " [5.90e+01 6.60e+00 2.90e+00 4.60e+00 1.30e+00]\n",
      " [8.90e+01 5.60e+00 3.00e+00 4.10e+00 1.30e+00]\n",
      " [7.10e+01 5.90e+00 3.20e+00 4.80e+00 1.80e+00]\n",
      " [8.80e+01 6.30e+00 2.30e+00 4.40e+00 1.30e+00]\n",
      " [3.70e+01 5.50e+00 3.50e+00 1.30e+00 2.00e-01]\n",
      " [2.20e+01 5.10e+00 3.70e+00 1.50e+00 4.00e-01]\n",
      " [1.00e+01 4.90e+00 3.10e+00 1.50e+00 1.00e-01]\n",
      " [1.04e+02 6.30e+00 2.90e+00 5.60e+00 1.80e+00]\n",
      " [6.80e+01 5.80e+00 2.70e+00 4.10e+00 1.00e+00]\n",
      " [1.18e+02 7.70e+00 3.80e+00 6.70e+00 2.20e+00]\n",
      " [4.80e+01 4.60e+00 3.20e+00 1.40e+00 2.00e-01]]\n"
     ]
    }
   ],
   "source": [
    "from sklearn.model_selection import train_test_split\n",
    "\n",
    "x_train, x_test, y_train, y_test = train_test_split(x, y, test_size = 0.2, random_state = 0)\n",
    "\n",
    "print(x_train)"
   ]
  },
  {
   "cell_type": "code",
   "execution_count": 210,
   "id": "4310f1fe-0240-4701-b7a5-28f544f581bf",
   "metadata": {},
   "outputs": [],
   "source": [
    "## FEATURE SCALING"
   ]
  },
  {
   "cell_type": "code",
   "execution_count": 212,
   "id": "320beb14-b34e-4dc7-874f-32b74af0a499",
   "metadata": {},
   "outputs": [
    {
     "name": "stdout",
     "output_type": "stream",
     "text": [
      "[[ 1.34636602  0.61303014  0.10850105  0.94751783  0.73603967]\n",
      " [ 0.16184701 -0.56776627 -0.12400121  0.38491447  0.34808318]\n",
      " [-1.11206965 -0.80392556  1.03851009 -1.30289562 -1.3330616 ]\n",
      " [ 1.12287187  0.25879121 -0.12400121  0.60995581  0.73603967]\n",
      " [ 1.23461894  0.61303014 -0.58900572  1.00377816  1.25331499]\n",
      " [-0.39688836 -0.80392556 -0.82150798  0.04735245  0.21876435]\n",
      " [-1.31321439 -0.21352735  1.73601687 -1.19037495 -1.20374277]\n",
      " [ 0.1394976   0.14071157 -0.82150798  0.72247648  0.47740201]\n",
      " [-0.35218953  0.02263193 -0.12400121  0.21613346  0.34808318]\n",
      " [ 0.34064234 -0.09544771 -1.05401024  0.10361279 -0.03987331]\n",
      " [ 0.78763064  1.0853487  -0.12400121  0.94751783  1.12399616]\n",
      " [-1.67080503 -1.39432376  0.34100331 -1.41541629 -1.3330616 ]\n",
      " [ 1.43576368  1.20342834  0.10850105  0.72247648  1.38263382]\n",
      " [-0.75447901 -1.04008484  1.03851009 -1.24663528 -0.81578628]\n",
      " [-1.49200971 -0.56776627  1.50351461 -1.30289562 -1.3330616 ]\n",
      " [-0.37453895 -1.04008484 -2.4490238  -0.1776889  -0.29851096]\n",
      " [ 0.8770283   0.73110978 -0.12400121  0.94751783  0.73603967]\n",
      " [ 1.50281193  0.96726906  0.57350557  1.0600385   1.64127148]\n",
      " [ 0.94407655  0.14071157 -1.98401928  0.66621615  0.34808318]\n",
      " [ 0.69823298  0.96726906 -1.2865125   1.11629884  0.73603967]\n",
      " [-0.17339421 -0.33160699 -1.2865125   0.04735245 -0.16919214]\n",
      " [ 1.30166719  2.14806547 -0.12400121  1.28507985  1.38263382]\n",
      " [-0.46393661  0.49495049  0.57350557  0.49743514  0.47740201]\n",
      " [ 0.07244935 -0.44968663 -1.51901476 -0.00890789 -0.16919214]\n",
      " [ 1.03347421  0.49495049 -0.82150798  0.60995581  0.73603967]\n",
      " [ 1.25696836  0.49495049 -0.58900572  0.72247648  0.34808318]\n",
      " [ 0.65353415 -1.15816448 -1.2865125   0.38491447  0.60672084]\n",
      " [ 1.54751076  0.49495049 -1.2865125   0.66621615  0.8653585 ]\n",
      " [-0.5980331   1.32150798  0.34100331  0.49743514  0.21876435]\n",
      " [ 1.56986017  0.73110978 -0.12400121  0.77873682  0.99467733]\n",
      " [ 0.18419643  0.14071157  0.80600783  0.38491447  0.47740201]\n",
      " [-1.0450214  -1.27624412  0.10850105 -1.24663528 -1.3330616 ]\n",
      " [ 0.54178707 -0.09544771 -0.82150798  0.72247648  0.8653585 ]\n",
      " [ 0.38534117 -0.33160699 -0.82150798  0.21613346  0.08944552]\n",
      " [-0.28514129 -0.33160699 -0.35650346 -0.12142856  0.08944552]\n",
      " [ 0.27359409 -0.44968663 -1.2865125   0.10361279  0.08944552]\n",
      " [ 0.31829292  0.25879121 -0.12400121  0.4411748   0.21876435]\n",
      " [ 1.07817304  1.55766726  0.34100331  1.22881951  0.73603967]\n",
      " [-0.64273193 -0.68584591  1.50351461 -1.30289562 -1.3330616 ]\n",
      " [-1.42496146 -1.86664232 -0.12400121 -1.52793696 -1.46238043]\n",
      " [ 0.76528122  0.61303014 -0.82150798  0.83499716  0.8653585 ]\n",
      " [ 0.40769058 -0.21352735 -0.12400121  0.21613346 -0.03987331]\n",
      " [-1.26851556 -0.56776627  0.80600783 -1.19037495 -1.3330616 ]\n",
      " [-1.38026263 -0.21352735  3.13103043 -1.30289562 -1.07442394]\n",
      " [-0.55333427  1.20342834  0.10850105  0.60995581  0.34808318]\n",
      " [-1.64845561 -1.5124034   0.10850105 -1.30289562 -1.3330616 ]\n",
      " [ 1.614559    0.02263193 -0.12400121  0.72247648  0.73603967]\n",
      " [ 0.47473883 -0.9220052  -1.2865125  -0.45899058 -0.16919214]\n",
      " [-1.58140737 -1.5124034   0.80600783 -1.35915595 -1.20374277]\n",
      " [-0.19574363  0.37687085 -1.98401928  0.38491447  0.34808318]\n",
      " [ 0.72058239  1.55766726  1.27101235  1.28507985  1.64127148]\n",
      " [ 0.43004    -0.21352735 -0.35650346  0.21613346  0.08944552]\n",
      " [-1.44731088 -1.27624412 -0.12400121 -1.35915595 -1.46238043]\n",
      " [ 0.56413649  1.43958762 -0.12400121  1.17255917  1.12399616]\n",
      " [ 0.96642596  1.20342834  0.34100331  1.0600385   1.38263382]\n",
      " [ 0.60883532  0.73110978 -0.12400121  1.11629884  1.25331499]\n",
      " [ 1.14522128  0.61303014 -0.58900572  1.00377816  1.12399616]\n",
      " [-0.68743076 -0.9220052   1.73601687 -1.24663528 -1.3330616 ]\n",
      " [-1.46966029 -1.27624412  0.80600783 -1.24663528 -1.3330616 ]\n",
      " [ 0.74293181  0.73110978  0.34100331  0.72247648  0.99467733]\n",
      " [ 1.05582362  0.96726906  0.57350557  1.0600385   1.12399616]\n",
      " [-0.79917784 -1.63048304 -1.75151702 -1.41541629 -1.20374277]\n",
      " [ 1.59220959  0.37687085  0.80600783  0.89125749  1.38263382]\n",
      " [-1.69315444 -1.15816448 -0.12400121 -1.35915595 -1.3330616 ]\n",
      " [ 0.80998005 -0.21352735 -1.2865125   0.66621615  0.99467733]\n",
      " [ 1.39106485  1.20342834  0.10850105  0.89125749  1.12399616]\n",
      " [-0.77682842 -1.74856268  0.34100331 -1.41541629 -1.3330616 ]\n",
      " [-1.6261062  -1.04008484  1.27101235 -1.35915595 -1.3330616 ]\n",
      " [ 1.1675707   1.55766726 -0.12400121  1.11629884  0.47740201]\n",
      " [-1.3355638  -0.9220052   1.03851009 -1.35915595 -1.20374277]\n",
      " [-0.86622608 -1.74856268 -0.12400121 -1.41541629 -1.3330616 ]\n",
      " [-1.60375678 -0.56776627  1.96851913 -1.19037495 -1.07442394]\n",
      " [-0.53098486 -0.44968663 -1.75151702  0.10361279  0.08944552]\n",
      " [ 1.48046251  1.0853487   0.34100331  1.17255917  1.38263382]\n",
      " [ 0.63118473  2.02998583 -0.12400121  1.56638153  1.12399616]\n",
      " [-1.71550386 -0.9220052   1.03851009 -1.35915595 -1.3330616 ]\n",
      " [-0.95562374 -1.15816448  0.10850105 -1.30289562 -1.46238043]\n",
      " [-1.08972023 -0.80392556  0.80600783 -1.35915595 -1.3330616 ]\n",
      " [-0.48628603 -0.21352735 -0.58900572  0.38491447  0.08944552]\n",
      " [-0.03929772  0.84918942 -0.12400121  0.32865413  0.21876435]\n",
      " [-0.93327433 -1.04008484  0.34100331 -1.47167663 -1.3330616 ]\n",
      " [-1.20146731 -0.9220052   0.57350557 -1.19037495 -0.94510511]\n",
      " [-0.06164714  0.61303014 -0.35650346  0.27239379  0.08944552]\n",
      " [-1.02267199 -0.56776627  0.80600783 -1.30289562 -1.07442394]\n",
      " [ 0.92172713  2.14806547 -1.05401024  1.73516253  1.38263382]\n",
      " [-0.44158719 -1.15816448 -1.51901476 -0.29020957 -0.29851096]\n",
      " [ 1.21226953  2.38422475  1.73601687  1.45386085  0.99467733]\n",
      " [-0.26279187  0.96726906  0.10850105  0.32865413  0.21876435]\n",
      " [-1.00032257 -0.80392556  2.43352365 -1.30289562 -1.46238043]\n",
      " [ 1.36871543  0.14071157 -0.12400121  0.55369548  0.73603967]\n",
      " [-1.40261205 -0.09544771  2.20102139 -1.47167663 -1.3330616 ]\n",
      " [ 1.01112479  2.14806547 -0.58900572  1.62264186  0.99467733]\n",
      " [-1.29086497 -0.9220052   1.73601687 -1.30289562 -1.20374277]\n",
      " [-1.06737082 -1.39432376  0.34100331 -1.24663528 -1.3330616 ]\n",
      " [ 1.18992011  1.79382654 -0.58900572  1.28507985  0.8653585 ]\n",
      " [-0.62038252 -1.04008484  0.57350557 -1.35915595 -1.3330616 ]\n",
      " [ 1.3240166   0.49495049  0.80600783  1.00377816  1.51195265]\n",
      " [ 0.49708824 -0.21352735 -0.58900572  0.15987312  0.08944552]\n",
      " [ 0.11714818 -0.09544771 -0.82150798  0.04735245 -0.03987331]\n",
      " [ 0.05009994 -0.21352735 -1.05401024 -0.1776889  -0.29851096]\n",
      " [ 0.85467889  0.61303014  0.34100331  0.83499716  1.38263382]\n",
      " [ 1.52516134  0.96726906 -0.12400121  0.77873682  1.38263382]\n",
      " [-0.10634597  0.49495049 -1.2865125   0.60995581  0.34808318]\n",
      " [ 0.00540111  0.96726906 -0.12400121  0.66621615  0.60672084]\n",
      " [-1.15676848 -1.04008484 -0.12400121 -1.24663528 -1.3330616 ]\n",
      " [ 0.09479877 -0.44968663 -1.51901476 -0.06516822 -0.29851096]\n",
      " [ 1.41341426  0.96726906  0.10850105  1.00377816  1.51195265]\n",
      " [ 1.45811309 -0.09544771 -0.82150798  0.72247648  0.8653585 ]\n",
      " [-0.84387667 -0.9220052   0.80600783 -1.30289562 -1.3330616 ]\n",
      " [-0.41923778  0.84918942 -0.35650346  0.4411748   0.08944552]\n",
      " [ 0.25124468 -0.33160699 -0.12400121  0.15987312  0.08944552]\n",
      " [-0.1510448   0.02263193  0.34100331  0.55369548  0.73603967]\n",
      " [ 0.22889526  0.49495049 -1.75151702  0.32865413  0.08944552]\n",
      " [-0.91092491 -0.44968663  1.03851009 -1.41541629 -1.3330616 ]\n",
      " [-1.24616614 -0.9220052   1.50351461 -1.30289562 -1.07442394]\n",
      " [-1.51435912 -1.15816448  0.10850105 -1.30289562 -1.46238043]\n",
      " [ 0.5864859   0.49495049 -0.35650346  1.00377816  0.73603967]\n",
      " [-0.21809304 -0.09544771 -0.82150798  0.15987312 -0.29851096]\n",
      " [ 0.89937772  2.14806547  1.73601687  1.62264186  1.25331499]\n",
      " [-0.66508135 -1.5124034   0.34100331 -1.35915595 -1.3330616 ]]\n"
     ]
    }
   ],
   "source": [
    "from sklearn.preprocessing import StandardScaler\n",
    "\n",
    "sc = StandardScaler()\n",
    "\n",
    "x_train = sc.fit_transform(x_train)\n",
    "\n",
    "x_test = sc.transform(x_test)\n",
    "print(x_train)"
   ]
  },
  {
   "cell_type": "code",
   "execution_count": 215,
   "id": "43f8c5ec-d3ff-4a2e-9bd8-8aa75882c75f",
   "metadata": {},
   "outputs": [],
   "source": [
    " ## TRAINING THE DECISION TREE MODEL ONTHE TRAINING SET"
   ]
  },
  {
   "cell_type": "code",
   "execution_count": 216,
   "id": "dfd0e3f4-7aa2-43ad-83c5-e5e9e5e459c8",
   "metadata": {},
   "outputs": [
    {
     "data": {
      "text/html": [
       "<style>#sk-container-id-8 {color: black;background-color: white;}#sk-container-id-8 pre{padding: 0;}#sk-container-id-8 div.sk-toggleable {background-color: white;}#sk-container-id-8 label.sk-toggleable__label {cursor: pointer;display: block;width: 100%;margin-bottom: 0;padding: 0.3em;box-sizing: border-box;text-align: center;}#sk-container-id-8 label.sk-toggleable__label-arrow:before {content: \"▸\";float: left;margin-right: 0.25em;color: #696969;}#sk-container-id-8 label.sk-toggleable__label-arrow:hover:before {color: black;}#sk-container-id-8 div.sk-estimator:hover label.sk-toggleable__label-arrow:before {color: black;}#sk-container-id-8 div.sk-toggleable__content {max-height: 0;max-width: 0;overflow: hidden;text-align: left;background-color: #f0f8ff;}#sk-container-id-8 div.sk-toggleable__content pre {margin: 0.2em;color: black;border-radius: 0.25em;background-color: #f0f8ff;}#sk-container-id-8 input.sk-toggleable__control:checked~div.sk-toggleable__content {max-height: 200px;max-width: 100%;overflow: auto;}#sk-container-id-8 input.sk-toggleable__control:checked~label.sk-toggleable__label-arrow:before {content: \"▾\";}#sk-container-id-8 div.sk-estimator input.sk-toggleable__control:checked~label.sk-toggleable__label {background-color: #d4ebff;}#sk-container-id-8 div.sk-label input.sk-toggleable__control:checked~label.sk-toggleable__label {background-color: #d4ebff;}#sk-container-id-8 input.sk-hidden--visually {border: 0;clip: rect(1px 1px 1px 1px);clip: rect(1px, 1px, 1px, 1px);height: 1px;margin: -1px;overflow: hidden;padding: 0;position: absolute;width: 1px;}#sk-container-id-8 div.sk-estimator {font-family: monospace;background-color: #f0f8ff;border: 1px dotted black;border-radius: 0.25em;box-sizing: border-box;margin-bottom: 0.5em;}#sk-container-id-8 div.sk-estimator:hover {background-color: #d4ebff;}#sk-container-id-8 div.sk-parallel-item::after {content: \"\";width: 100%;border-bottom: 1px solid gray;flex-grow: 1;}#sk-container-id-8 div.sk-label:hover label.sk-toggleable__label {background-color: #d4ebff;}#sk-container-id-8 div.sk-serial::before {content: \"\";position: absolute;border-left: 1px solid gray;box-sizing: border-box;top: 0;bottom: 0;left: 50%;z-index: 0;}#sk-container-id-8 div.sk-serial {display: flex;flex-direction: column;align-items: center;background-color: white;padding-right: 0.2em;padding-left: 0.2em;position: relative;}#sk-container-id-8 div.sk-item {position: relative;z-index: 1;}#sk-container-id-8 div.sk-parallel {display: flex;align-items: stretch;justify-content: center;background-color: white;position: relative;}#sk-container-id-8 div.sk-item::before, #sk-container-id-8 div.sk-parallel-item::before {content: \"\";position: absolute;border-left: 1px solid gray;box-sizing: border-box;top: 0;bottom: 0;left: 50%;z-index: -1;}#sk-container-id-8 div.sk-parallel-item {display: flex;flex-direction: column;z-index: 1;position: relative;background-color: white;}#sk-container-id-8 div.sk-parallel-item:first-child::after {align-self: flex-end;width: 50%;}#sk-container-id-8 div.sk-parallel-item:last-child::after {align-self: flex-start;width: 50%;}#sk-container-id-8 div.sk-parallel-item:only-child::after {width: 0;}#sk-container-id-8 div.sk-dashed-wrapped {border: 1px dashed gray;margin: 0 0.4em 0.5em 0.4em;box-sizing: border-box;padding-bottom: 0.4em;background-color: white;}#sk-container-id-8 div.sk-label label {font-family: monospace;font-weight: bold;display: inline-block;line-height: 1.2em;}#sk-container-id-8 div.sk-label-container {text-align: center;}#sk-container-id-8 div.sk-container {/* jupyter's `normalize.less` sets `[hidden] { display: none; }` but bootstrap.min.css set `[hidden] { display: none !important; }` so we also need the `!important` here to be able to override the default hidden behavior on the sphinx rendered scikit-learn.org. See: https://github.com/scikit-learn/scikit-learn/issues/21755 */display: inline-block !important;position: relative;}#sk-container-id-8 div.sk-text-repr-fallback {display: none;}</style><div id=\"sk-container-id-8\" class=\"sk-top-container\"><div class=\"sk-text-repr-fallback\"><pre>DecisionTreeClassifier(criterion=&#x27;entropy&#x27;, random_state=0)</pre><b>In a Jupyter environment, please rerun this cell to show the HTML representation or trust the notebook. <br />On GitHub, the HTML representation is unable to render, please try loading this page with nbviewer.org.</b></div><div class=\"sk-container\" hidden><div class=\"sk-item\"><div class=\"sk-estimator sk-toggleable\"><input class=\"sk-toggleable__control sk-hidden--visually\" id=\"sk-estimator-id-8\" type=\"checkbox\" checked><label for=\"sk-estimator-id-8\" class=\"sk-toggleable__label sk-toggleable__label-arrow\">DecisionTreeClassifier</label><div class=\"sk-toggleable__content\"><pre>DecisionTreeClassifier(criterion=&#x27;entropy&#x27;, random_state=0)</pre></div></div></div></div></div>"
      ],
      "text/plain": [
       "DecisionTreeClassifier(criterion='entropy', random_state=0)"
      ]
     },
     "execution_count": 216,
     "metadata": {},
     "output_type": "execute_result"
    }
   ],
   "source": [
    "from sklearn.tree import DecisionTreeClassifier\n",
    "\n",
    "classifier = DecisionTreeClassifier(criterion = 'entropy', random_state = 0)\n",
    "\n",
    "classifier.fit(x_train, y_train)"
   ]
  },
  {
   "cell_type": "code",
   "execution_count": 218,
   "id": "cb8f5831-57f0-4d50-a717-86a61a8b7a27",
   "metadata": {},
   "outputs": [],
   "source": [
    "## predicting the result"
   ]
  },
  {
   "cell_type": "code",
   "execution_count": 219,
   "id": "cec4414b-e58f-461a-bcf3-a4f4c7421c0a",
   "metadata": {},
   "outputs": [
    {
     "name": "stdout",
     "output_type": "stream",
     "text": [
      "[['Iris-virginica' 'Iris-virginica']\n",
      " ['Iris-versicolor' 'Iris-versicolor']\n",
      " ['Iris-setosa' 'Iris-setosa']\n",
      " ['Iris-virginica' 'Iris-virginica']\n",
      " ['Iris-setosa' 'Iris-setosa']\n",
      " ['Iris-versicolor' 'Iris-virginica']\n",
      " ['Iris-setosa' 'Iris-setosa']\n",
      " ['Iris-versicolor' 'Iris-versicolor']\n",
      " ['Iris-versicolor' 'Iris-versicolor']\n",
      " ['Iris-versicolor' 'Iris-versicolor']\n",
      " ['Iris-virginica' 'Iris-virginica']\n",
      " ['Iris-versicolor' 'Iris-versicolor']\n",
      " ['Iris-versicolor' 'Iris-versicolor']\n",
      " ['Iris-versicolor' 'Iris-versicolor']\n",
      " ['Iris-versicolor' 'Iris-versicolor']\n",
      " ['Iris-setosa' 'Iris-setosa']\n",
      " ['Iris-versicolor' 'Iris-versicolor']\n",
      " ['Iris-versicolor' 'Iris-versicolor']\n",
      " ['Iris-setosa' 'Iris-setosa']\n",
      " ['Iris-setosa' 'Iris-setosa']\n",
      " ['Iris-virginica' 'Iris-virginica']\n",
      " ['Iris-versicolor' 'Iris-versicolor']\n",
      " ['Iris-setosa' 'Iris-setosa']\n",
      " ['Iris-setosa' 'Iris-setosa']\n",
      " ['Iris-virginica' 'Iris-virginica']\n",
      " ['Iris-setosa' 'Iris-setosa']\n",
      " ['Iris-setosa' 'Iris-setosa']\n",
      " ['Iris-versicolor' 'Iris-versicolor']\n",
      " ['Iris-versicolor' 'Iris-versicolor']\n",
      " ['Iris-setosa' 'Iris-setosa']]\n"
     ]
    }
   ],
   "source": [
    "y_pred = classifier.predict(x_test)\n",
    "\n",
    "print(np.concatenate((y_pred.reshape(len(y_pred),1), y_test.reshape(len(y_test),1)),1))"
   ]
  },
  {
   "cell_type": "code",
   "execution_count": 222,
   "id": "00b5c1a1-b572-4cdb-9449-1fceee9d0708",
   "metadata": {},
   "outputs": [],
   "source": [
    " ## MAKING THE CONFUSION MATRIX"
   ]
  },
  {
   "cell_type": "code",
   "execution_count": 223,
   "id": "15be0053-faa3-4047-9f43-667f9c1c0281",
   "metadata": {},
   "outputs": [
    {
     "name": "stdout",
     "output_type": "stream",
     "text": [
      "[[11  0  0]\n",
      " [ 0 13  0]\n",
      " [ 0  1  5]]\n"
     ]
    },
    {
     "data": {
      "text/plain": [
       "0.9666666666666667"
      ]
     },
     "execution_count": 223,
     "metadata": {},
     "output_type": "execute_result"
    }
   ],
   "source": [
    "from sklearn.metrics import confusion_matrix, accuracy_score\n",
    "\n",
    "cm = confusion_matrix(y_test, y_pred)\n",
    "\n",
    "print(cm)\n",
    "\n",
    "accuracy_score(y_test, y_pred)"
   ]
  },
  {
   "cell_type": "code",
   "execution_count": null,
   "id": "50b97f85-1311-4745-b00f-860afe290109",
   "metadata": {},
   "outputs": [],
   "source": []
  },
  {
   "cell_type": "code",
   "execution_count": null,
   "id": "d48634fb-3bb3-42c4-ba16-f48280e94485",
   "metadata": {},
   "outputs": [],
   "source": []
  },
  {
   "cell_type": "code",
   "execution_count": null,
   "id": "5cd8ee33-8116-45c7-ba63-6dbfb96d066c",
   "metadata": {},
   "outputs": [],
   "source": []
  },
  {
   "cell_type": "code",
   "execution_count": null,
   "id": "ac2c78e4-7c3e-4223-bbc8-c1033962d2fa",
   "metadata": {},
   "outputs": [],
   "source": []
  },
  {
   "cell_type": "code",
   "execution_count": null,
   "id": "a26ef403-b566-498b-91e8-0dc69c005abd",
   "metadata": {},
   "outputs": [],
   "source": []
  },
  {
   "cell_type": "code",
   "execution_count": null,
   "id": "f06011c3-fd52-4002-a7a6-7923dc9e381c",
   "metadata": {},
   "outputs": [],
   "source": []
  },
  {
   "cell_type": "code",
   "execution_count": null,
   "id": "51ac26db-5559-445a-bf17-93978627f8b7",
   "metadata": {},
   "outputs": [],
   "source": []
  },
  {
   "cell_type": "code",
   "execution_count": null,
   "id": "48b98fb3-b017-4271-ab32-c428a88e6bc5",
   "metadata": {},
   "outputs": [],
   "source": []
  },
  {
   "cell_type": "code",
   "execution_count": null,
   "id": "39d6dc5e-0121-44b9-a5aa-6c51a91951f6",
   "metadata": {},
   "outputs": [],
   "source": []
  },
  {
   "cell_type": "code",
   "execution_count": null,
   "id": "74fb5494-baf3-4f2f-ae0e-93416ba5fbee",
   "metadata": {},
   "outputs": [],
   "source": []
  },
  {
   "cell_type": "code",
   "execution_count": null,
   "id": "4cca8aa9-f8d1-4f42-94f6-44b9c62ddcc9",
   "metadata": {},
   "outputs": [],
   "source": []
  },
  {
   "cell_type": "code",
   "execution_count": null,
   "id": "72466105-cc78-4f55-8bb9-2a9807ddca88",
   "metadata": {},
   "outputs": [],
   "source": []
  },
  {
   "cell_type": "code",
   "execution_count": null,
   "id": "96a2f296-cd3c-4c37-a7bd-c195401b11b3",
   "metadata": {},
   "outputs": [],
   "source": []
  },
  {
   "cell_type": "code",
   "execution_count": null,
   "id": "ad41092b-4b6b-4e3d-9a95-26a0499460e3",
   "metadata": {},
   "outputs": [],
   "source": []
  },
  {
   "cell_type": "code",
   "execution_count": null,
   "id": "ca641ea5-bd78-4a81-b328-f22b0a892863",
   "metadata": {},
   "outputs": [],
   "source": []
  },
  {
   "cell_type": "code",
   "execution_count": null,
   "id": "5c7b4d36-027f-4aea-9083-a3bc7fdd7458",
   "metadata": {},
   "outputs": [],
   "source": []
  },
  {
   "cell_type": "code",
   "execution_count": null,
   "id": "05f0f6e1-9448-449b-9f32-e7b3b74d4c8c",
   "metadata": {},
   "outputs": [],
   "source": []
  },
  {
   "cell_type": "code",
   "execution_count": null,
   "id": "ca2a59f2-42a5-4a77-970c-9279434329db",
   "metadata": {},
   "outputs": [],
   "source": []
  },
  {
   "cell_type": "code",
   "execution_count": null,
   "id": "45c3104d-f10f-4b35-8dd1-0a3a5188c6a2",
   "metadata": {},
   "outputs": [],
   "source": []
  },
  {
   "cell_type": "code",
   "execution_count": null,
   "id": "1f97d052-8d97-4470-9608-90e0b5dc618a",
   "metadata": {},
   "outputs": [],
   "source": []
  }
 ],
 "metadata": {
  "kernelspec": {
   "display_name": "Python 3 (ipykernel)",
   "language": "python",
   "name": "python3"
  },
  "language_info": {
   "codemirror_mode": {
    "name": "ipython",
    "version": 3
   },
   "file_extension": ".py",
   "mimetype": "text/x-python",
   "name": "python",
   "nbconvert_exporter": "python",
   "pygments_lexer": "ipython3",
   "version": "3.11.7"
  }
 },
 "nbformat": 4,
 "nbformat_minor": 5
}
